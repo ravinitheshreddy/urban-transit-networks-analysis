{
 "cells": [
  {
   "cell_type": "code",
   "execution_count": 1,
   "id": "a9d6c281-3fad-46df-9468-d851a57c0709",
   "metadata": {
    "tags": []
   },
   "outputs": [],
   "source": [
    "import glob\n",
    "import pickle\n",
    "import pathlib\n",
    "import pandas as pd\n",
    "import networkx as nx\n",
    "\n",
    "from zipfile import ZipFile"
   ]
  },
  {
   "cell_type": "code",
   "execution_count": 2,
   "id": "fd50bb09-a5c3-47fe-abd8-f363cbc508d5",
   "metadata": {
    "tags": []
   },
   "outputs": [],
   "source": [
    "rel_data_folder_path = pathlib.Path(\"./../../data\")\n",
    "transport_data_path = rel_data_folder_path.joinpath('transport_data')\n",
    "city_network_graphs = rel_data_folder_path.joinpath('network_graphs').joinpath('graphs')\n",
    "city_network_bones = rel_data_folder_path.joinpath('network_graphs').joinpath('nodes-edges')\n",
    "\n",
    "city_zips = list(transport_data_path.glob('*.zip'))"
   ]
  },
  {
   "cell_type": "code",
   "execution_count": 3,
   "id": "a8405ec1-f62f-4d77-a0d5-20be840e01e9",
   "metadata": {
    "tags": []
   },
   "outputs": [],
   "source": [
    "for city_data_path in city_zips:\n",
    "    city_zf = ZipFile(city_data_path)\n",
    "    city_name = city_data_path.name.removesuffix(\".zip\")\n",
    "    \n",
    "    city_nodes_df = pd.read_csv(city_zf.open(city_name + '/network_nodes.csv'),sep=\";\")\n",
    "    city_zf.extract(city_name + '/network_nodes.csv', path=city_network_bones)\n",
    "    \n",
    "    city_network_df = pd.read_csv(city_zf.open(city_name + '/network_combined.csv'),sep=\";\")\n",
    "    city_zf.extract(city_name + '/network_combined.csv', path=city_network_bones)\n",
    "    \n",
    "    city_graph = nx.MultiDiGraph()\n",
    "\n",
    "    # Add nodes to the graph\n",
    "    for _, row in city_nodes_df.iterrows():\n",
    "        node_id = row['stop_I']\n",
    "        city_graph.add_node(node_id, **row[1:].to_dict())\n",
    "\n",
    "    # Add edges to the graph\n",
    "    for _, row in city_network_df.iterrows():\n",
    "        source = row['from_stop_I']\n",
    "        target = row['to_stop_I']\n",
    "        edge_data = row[2:].to_dict()\n",
    "        city_graph.add_edge(source, target, **edge_data)\n",
    "        \n",
    "    with open(city_network_graphs.joinpath(city_name + '.gpickle'), 'wb') as f:\n",
    "        pickle.dump(city_graph, f, pickle.HIGHEST_PROTOCOL)"
   ]
  },
  {
   "cell_type": "code",
   "execution_count": null,
   "id": "41cbb58b-88a0-452f-848c-76a13fa39bb6",
   "metadata": {},
   "outputs": [],
   "source": []
  }
 ],
 "metadata": {
  "kernelspec": {
   "display_name": "Python [conda env:nml] *",
   "language": "python",
   "name": "conda-env-nml-py"
  },
  "language_info": {
   "codemirror_mode": {
    "name": "ipython",
    "version": 3
   },
   "file_extension": ".py",
   "mimetype": "text/x-python",
   "name": "python",
   "nbconvert_exporter": "python",
   "pygments_lexer": "ipython3",
   "version": "3.9.16"
  }
 },
 "nbformat": 4,
 "nbformat_minor": 5
}
