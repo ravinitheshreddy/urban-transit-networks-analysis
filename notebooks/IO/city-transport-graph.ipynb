{
 "cells": [
  {
   "cell_type": "markdown",
   "id": "5f86f6ef-1d4b-4b05-bad6-5aa42d271158",
   "metadata": {},
   "source": [
    "# Graphs Creation\n",
    "\n",
    "In this notebook, the data about the transport networks is read from the CSV files and networkx graphs are created and stored. The data for each city is provided in a zip folder. Among many files, the files useful for us are `network_nodes.csv` and `network_combined.csv`. The former file one contains information about the nodes (stops) such as the id, latitude, longitue and name. The latter file contains the information about the edges (routes) such as the from node, to node, the straight line distance, average duration between the stops, the number of times a public transport vehicle passes through that stop in a hour and the route type. The route type can be one of following seven types: ` tram, subway, rail, bus, ferry, cablecar, gondola and funicular`. As there are different edges for different modes of the transport the whole transport network graph is conceputalised as a MultiDiGraph. As the transport vehicles have a from and to node, it is represented in the graph as a directed graph. \n",
    "\n",
    "We found out that there are some self loops in the edge data and we could not find the relevant information on the transportation website of the city. Hence we remove the edges with same from and to id. \n",
    "\n",
    "We create a dictionary of graphs for each city with mode of transport as the key and the networkx graph as the value. If a certain mode of transport does not exist, then the value is set to None. Apart form the individual modes, there will be one full graph as well. This dictionary of graphs is stored as a pickle file on the drive. Along with the dictionary of graphs, we store the `network_nodes.csv` and `network_combined.csv` for each city.\n",
    "\n",
    "\n",
    "\n",
    "1. For each city , creates an empty dictionary to store graphs representing different types of transportation routes in the city.\n",
    "2. Extract the city name from the city zip file name, and read the node and edge data from CSV files in the zip file.\n",
    "3. Remove the self loops from the edge data\n",
    "3. Create a MultiDiGraph for full network of transportation routes in the city.\n",
    "4. Get the unique transportation route types in the edge data CSV file, and create a new DiGraph for each route type.\n",
    "5. Store the dictionary of graphs as a serialized pickle file with the name of the city"
   ]
  },
  {
   "cell_type": "code",
   "execution_count": 1,
   "id": "a9d6c281-3fad-46df-9468-d851a57c0709",
   "metadata": {
    "tags": []
   },
   "outputs": [],
   "source": [
    "import glob\n",
    "import pickle\n",
    "import pathlib\n",
    "import pandas as pd\n",
    "import networkx as nx\n",
    "\n",
    "from zipfile import ZipFile\n",
    "\n",
    "from enum import Enum"
   ]
  },
  {
   "cell_type": "code",
   "execution_count": 2,
   "id": "fd50bb09-a5c3-47fe-abd8-f363cbc508d5",
   "metadata": {
    "tags": []
   },
   "outputs": [],
   "source": [
    "# Set paths for input data and output graphs\n",
    "rel_data_folder_path = pathlib.Path(\"./../../data\")\n",
    "transport_data_path = rel_data_folder_path.joinpath('transport_data')\n",
    "city_network_graphs = rel_data_folder_path.joinpath('network_graphs').joinpath('graphs')\n",
    "city_network_bones = rel_data_folder_path.joinpath('network_graphs').joinpath('nodes-edges')\n",
    "\n",
    "# Get list of zip files with transportation data\n",
    "city_zips = list(transport_data_path.glob('*.zip'))\n",
    "\n",
    "# Define enum for route types\n",
    "class RouteType(Enum):\n",
    "    tram, subway, rail, bus, ferry, cablecar, gondola, funicular = range(8)"
   ]
  },
  {
   "cell_type": "code",
   "execution_count": 3,
   "id": "a8405ec1-f62f-4d77-a0d5-20be840e01e9",
   "metadata": {
    "tags": []
   },
   "outputs": [],
   "source": [
    "# Loop over each zip folder for the city\n",
    "for city_data_path in city_zips:\n",
    "    \n",
    "    # Create dictionary to store graph representations of different route types and the full network\n",
    "    city_graphs = {RouteType(idx).name: None for idx in range(8)}\n",
    "    city_graphs[\"full\"] = None\n",
    "    \n",
    "    # get the city name\n",
    "    city_zf = ZipFile(city_data_path)\n",
    "    city_name = city_data_path.name.removesuffix(\".zip\")\n",
    "        \n",
    "    # Read node information and save it to file\n",
    "    city_nodes_df = pd.read_csv(city_zf.open(city_name + '/network_nodes.csv'),sep=\";\")\n",
    "    city_zf.extract(city_name + '/network_nodes.csv', path=city_network_bones)\n",
    "\n",
    "    # read the edges information and remove self loops where the from stop and to stop are the same and save it to file\n",
    "    city_network_df = pd.read_csv(city_zf.open(city_name + '/network_combined.csv'),sep=\";\").query(\"from_stop_I != to_stop_I\")\n",
    "    city_zf.extract(city_name + '/network_combined.csv', path=city_network_bones)\n",
    "\n",
    "     # Construct graph for full network\n",
    "    full_city_graph = nx.MultiDiGraph()\n",
    "\n",
    "    # Add nodes to the graph\n",
    "    for _, row in city_nodes_df.iterrows():\n",
    "        node_id = row['stop_I']\n",
    "        full_city_graph.add_node(node_id, **row[1:].to_dict())\n",
    "\n",
    "    # Add edges to the graph\n",
    "    for _, row in city_network_df.iterrows():\n",
    "        source = row['from_stop_I']\n",
    "        target = row['to_stop_I']\n",
    "        edge_data = row[2:].to_dict()\n",
    "        full_city_graph.add_edge(source, target, **edge_data)\n",
    "\n",
    "    city_graphs[\"full\"] = full_city_graph\n",
    "\n",
    "     # Construct graphs for different route types\n",
    "    rte_types = city_network_df[\"route_type\"].unique()\n",
    "\n",
    "    for rte_type in rte_types:\n",
    "        rte_network_df = city_network_df[city_network_df[\"route_type\"] == rte_type]\n",
    "\n",
    "        rte_type_graph = nx.DiGraph()\n",
    "\n",
    "        # Add edges to the graph\n",
    "        for _, row in rte_network_df.iterrows():\n",
    "            source = row['from_stop_I']\n",
    "            target = row['to_stop_I']\n",
    "            edge_data = row[2:].to_dict()\n",
    "            rte_type_graph.add_edge(source, target, **edge_data)\n",
    "\n",
    "        city_graphs[RouteType(rte_type).name] = rte_type_graph\n",
    "\n",
    "    # Save graphs for city to file\n",
    "    with open(city_network_graphs.joinpath(city_name + '.gpickle'), 'wb') as f:\n",
    "        pickle.dump(city_graphs, f, pickle.HIGHEST_PROTOCOL)"
   ]
  },
  {
   "cell_type": "code",
   "execution_count": null,
   "id": "2cc9fd40-b20d-46f1-b9a0-c925dfacef49",
   "metadata": {},
   "outputs": [],
   "source": []
  }
 ],
 "metadata": {
  "kernelspec": {
   "display_name": "Python [conda env:nml] *",
   "language": "python",
   "name": "conda-env-nml-py"
  },
  "language_info": {
   "codemirror_mode": {
    "name": "ipython",
    "version": 3
   },
   "file_extension": ".py",
   "mimetype": "text/x-python",
   "name": "python",
   "nbconvert_exporter": "python",
   "pygments_lexer": "ipython3",
   "version": "3.9.16"
  }
 },
 "nbformat": 4,
 "nbformat_minor": 5
}
